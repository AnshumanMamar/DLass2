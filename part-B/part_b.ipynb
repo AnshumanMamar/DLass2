{
 "cells": [
  {
   "cell_type": "code",
   "execution_count": null,
   "metadata": {
    "vscode": {
     "languageId": "plaintext"
    }
   },
   "outputs": [],
   "source": [
    "#imports\n",
    "import torch\n",
    "import torchvision\n",
    "import torch.nn as nn\n",
    "import math\n",
    "from torchvision.transforms import RandomResizedCrop, RandomHorizontalFlip, Resize, CenterCrop, ToTensor, Normalize, Compose\n",
    "import shutil\n",
    "from tqdm import tqdm\n",
    "import torch.optim as optim\n",
    "import sys \n",
    "import torch.nn.functional as F\n",
    "from torch.utils.data import DataLoader, random_split\n",
    "import matplotlib.pyplot as plt\n",
    "import numpy as np"
   ]
  },
  {
   "cell_type": "code",
   "execution_count": null,
   "metadata": {
    "vscode": {
     "languageId": "plaintext"
    }
   },
   "outputs": [],
   "source": [
    "# loading the data\n",
    "def loader(t1data, valdata, t2data, batch):\n",
    "    bs=batch\n",
    "    bol1=True\n",
    "    bol2=False\n",
    "    train = torch.utils.data.DataLoader(t1data, batch_size=bs,num_workers =4, shuffle=bol1)\n",
    "    valid = torch.utils.data.DataLoader(valdata, batch_size=bs, num_workers =4,shuffle=bol1)\n",
    "    test = torch.utils.data.DataLoader(t2data, batch_size=bs, num_workers =4,shuffle=bol2)\n",
    "    allLoaders = {\n",
    "        'train' : train,\n",
    "        'valid' : valid,\n",
    "        'test'  : test\n",
    "    }\n",
    "    return allLoaders"
   ]
  },
  {
   "cell_type": "code",
   "execution_count": null,
   "metadata": {
    "vscode": {
     "languageId": "plaintext"
    }
   },
   "outputs": [],
   "source": [
    "# get model function is defined here\n",
    "def model_get(modelName):\n",
    "    bol =modelName.lower() == 'resnet50'\n",
    "    model = None\n",
    "    import torchvision as tv \n",
    "    if bol:\n",
    "        model = tv.models.resnet50(pretrained=True)\n",
    "    return model"
   ]
  },
  {
   "cell_type": "code",
   "execution_count": null,
   "metadata": {
    "vscode": {
     "languageId": "plaintext"
    }
   },
   "outputs": [],
   "source": [
    "# performinig the transformation to match model input dimensions\n",
    "def transform():\n",
    "    string ='Normalize'\n",
    "    valResize = 256 #134 #36\n",
    "    sizeChange = 224 #128#32\n",
    "    valCenterCrop = sizeChange\n",
    "    \n",
    "    \n",
    "    t1_t = Compose([RandomResizedCrop(sizeChange),\n",
    "                       RandomHorizontalFlip(),\n",
    "                       ToTensor(),\n",
    "                       Normalize(mean = [0.485, 0.456, 0.406], std = [0.229, 0.224, 0.225])])\n",
    "    val_t = Compose([Resize(valResize),\n",
    "                       CenterCrop(valCenterCrop),\n",
    "                       ToTensor(),\n",
    "                       Normalize(mean = [0.485, 0.456, 0.406], std = [0.229, 0.224, 0.225])])\n",
    "    t2_t = Compose([Resize((sizeChange,sizeChange)), \n",
    "                      ToTensor(), \n",
    "                      Normalize(mean = [0.485, 0.456, 0.406], std = [0.229, 0.224, 0.225])])\n",
    "    \n",
    "    transforms = {\n",
    "        'training':   t1_t,\n",
    "        'validation': val_t,\n",
    "        'test': t2_t\n",
    "    }\n",
    "    \n",
    "    return transforms\n",
    "\n",
    "#Loading dataset fn\n",
    "def data_load():\n",
    "    transforms=transform()\n",
    "    t1set  = torchvision.datasets.ImageFolder('/kaggle/input/dlasssssss2/inaturalist_12K/train', transforms['training'])\n",
    "    train, val = random_split(t1set, [8000, 1999])\n",
    "    t2set   = torchvision.datasets.ImageFolder('/kaggle/input/dlasssssss2/inaturalist_12K/val', transforms['test'])\n",
    "    return train, val, t2set"
   ]
  },
  {
   "cell_type": "code",
   "execution_count": null,
   "metadata": {
    "vscode": {
     "languageId": "plaintext"
    }
   },
   "outputs": [],
   "source": [
    "# how to check if cuda is available\n",
    "cuda = torch.cuda.is_available()\n",
    "if cuda == True:\n",
    "    device = torch.device(\"cuda\")\n",
    "if cuda != True:\n",
    "    device = torch.device(\"cpu\")\n",
    "    \n",
    "print(device)"
   ]
  },
  {
   "cell_type": "code",
   "execution_count": null,
   "metadata": {
    "vscode": {
     "languageId": "plaintext"
    }
   },
   "outputs": [],
   "source": [
    "def model_change_classifier(model):\n",
    "    model.fc = nn.Sequential(nn.Linear(model.fc.in_features,500),\n",
    "                         nn.ReLU(),\n",
    "                         nn.Dropout(),\n",
    "                         nn.Linear(500,10))"
   ]
  },
  {
   "cell_type": "code",
   "execution_count": null,
   "metadata": {
    "vscode": {
     "languageId": "plaintext"
    }
   },
   "outputs": [],
   "source": [
    "\n",
    "def train(totalEpoch, allLoaders, model, opt, criterion, cuda):\n",
    "    \n",
    "\n",
    "    for epoch in range(1, totalEpoch+1):\n",
    "        \n",
    "        train_loss ,valid_loss= 0.0,0.0\n",
    "        \n",
    "        optimizer=opt\n",
    "        model.train()\n",
    "        tnum_correct,tnum_examples=0,0\n",
    "        for data, target in tqdm(allLoaders['train']):\n",
    "            # move to GPU\n",
    "            bol=cuda\n",
    "            if bol:\n",
    "                data, target = data.cuda(), target.cuda()\n",
    "                \n",
    "            opt.zero_grad()\n",
    "            \n",
    "            output = model(data)\n",
    "            loss = criterion(output, target)\n",
    "            \n",
    "            \n",
    "            loss.backward()\n",
    "            opt.step()\n",
    "            train_loss += loss.item()\n",
    "            \n",
    "            _, predicted = torch.max(output.data, 1)\n",
    "            tnum_examples += target.size(0)\n",
    "            tnum_correct += (predicted == target).sum().item()\n",
    "            \n",
    "        train_acc = (tnum_correct / tnum_examples) * 100\n",
    "        train_loss = train_loss / len(allLoaders['train'])\n",
    "\n",
    "        \n",
    "  \n",
    "        # validating the Model \n",
    "\n",
    "        model.eval()\n",
    "        num_correct ,num_examples= 0,0\n",
    "        \n",
    "        \n",
    "        \n",
    "        for data, target in tqdm(allLoaders['valid']):\n",
    "            bol=cuda\n",
    "            if bol:\n",
    "                data, target = data.cuda(), target.cuda()\n",
    "            \n",
    "            output = model(data)\n",
    "            loss = criterion(output, target)\n",
    "            \n",
    "            \n",
    "            \n",
    "            valid_loss += loss.item()\n",
    "            \n",
    "            _, val_predicted = torch.max(output.data, 1)\n",
    "            num_examples += target.size(0)\n",
    "            num_correct += (val_predicted == target).sum().item()\n",
    "           \n",
    "\n",
    "        valid_acc = (num_correct / num_examples) * 100\n",
    "        valid_loss = valid_loss / len(allLoaders['valid'])\n",
    "        \n",
    "        \n",
    "        print('Epoch: {}\\tTraining Loss: {:.6f}\\tTrain Accuracy: {:.2f}\\tValidation Loss: {:.6f}\\tvalidation Accuracy: {:.2f}'.format(\n",
    "            epoch, \n",
    "            train_loss,\n",
    "            train_acc,\n",
    "            valid_loss,\n",
    "            valid_acc\n",
    "            ))\n",
    "        \n",
    "        \n",
    "    return model"
   ]
  },
  {
   "cell_type": "code",
   "execution_count": null,
   "metadata": {
    "vscode": {
     "languageId": "plaintext"
    }
   },
   "outputs": [],
   "source": []
  }
 ],
 "metadata": {
  "language_info": {
   "name": "python"
  }
 },
 "nbformat": 4,
 "nbformat_minor": 2
}
